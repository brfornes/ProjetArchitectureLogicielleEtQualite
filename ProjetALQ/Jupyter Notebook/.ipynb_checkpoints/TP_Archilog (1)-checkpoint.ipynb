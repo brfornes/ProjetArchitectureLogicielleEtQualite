{
 "cells": [
  {
   "cell_type": "markdown",
   "metadata": {},
   "source": [
    "Voici notre projet :)"
   ]
  },
  {
   "cell_type": "code",
   "execution_count": 1,
   "metadata": {},
   "outputs": [
    {
     "name": "stdout",
     "output_type": "stream",
     "text": [
      "    IdCommande  IdClient  IdProduit  Date  Quantite\n",
      "0            1         8          1  1995       225\n",
      "1            2        14          1  1995       125\n",
      "2            3        11          9  1995       150\n",
      "3            4        11          5  1996        25\n",
      "4            5        11         10  1996       175\n",
      "5            6         9          8  1996       125\n",
      "6            7         7          3  1996       250\n",
      "7            8        12          8  1996       150\n",
      "8            9        13          3  1996       200\n",
      "9           10         8          1  1996       200\n",
      "10          11        11          9  1996        25\n",
      "11          12         9         10  1996       125\n",
      "12          13         6          8  1996        75\n",
      "13          14         4          5  1996       225\n",
      "14          15         1          3  1996       150\n",
      "15          16         1          7  1996       250\n",
      "16          17         7          3  1996       200\n",
      "17          18         9          1  1996        75\n",
      "18          19         1          4  1996       175\n",
      "19          20         1         10  1997        25\n",
      "20          21        14         10  1997       250\n",
      "21          22         5          9  1997       200\n",
      "22          23         1          8  1998       125\n",
      "23          24         2         10  1998        75\n",
      "24          25         4          5  1998       150\n",
      "25          26         5          6  1998       250\n",
      "26          27         8          9  1998       125\n",
      "27          28         4         10  1999        75\n",
      "28          29         9          8  1999       250\n",
      "29          30         5          9  1999       175\n"
     ]
    }
   ],
   "source": [
    "import pandas as pd\n",
    "import random as rd\n",
    "import matplotlib.pyplot as plt\n",
    "import numpy as np\n",
    "\n",
    "filename = \"Commandes_clients.csv\"\n",
    "df = pd.read_csv(filename)\n",
    "\n",
    "print(df.head(30))"
   ]
  },
  {
   "cell_type": "code",
   "execution_count": 2,
   "metadata": {},
   "outputs": [
    {
     "name": "stdout",
     "output_type": "stream",
     "text": [
      "    Remise  IdProduit  IdClient\n",
      "0        6         10         1\n",
      "1        4          8        14\n",
      "2       15          3        11\n",
      "3       22          5        14\n",
      "4       12          2         5\n",
      "5        1          7        11\n",
      "6       14          9        12\n",
      "7        5          1         5\n",
      "8        1          2         9\n",
      "9       10          1        11\n",
      "10       9          6         5\n",
      "11      17          2         6\n",
      "12      21          2         5\n",
      "13       2          6         3\n",
      "14       6          7        13\n",
      "15       3          8        12\n",
      "16       2          8        14\n",
      "17       1          3         2\n",
      "18       4          5         6\n",
      "19      14          9         5\n"
     ]
    }
   ],
   "source": [
    "filename = \"Remises.csv\"\n",
    "df_remises = pd.read_csv(filename)\n",
    "print(df_remises.head(20))"
   ]
  },
  {
   "cell_type": "code",
   "execution_count": 3,
   "metadata": {
    "scrolled": true
   },
   "outputs": [
    {
     "name": "stdout",
     "output_type": "stream",
     "text": [
      "   Prix  Marge             Nom\n",
      "0    53     29        Teinture\n",
      "1    30     30         Ciseaux\n",
      "2    70     25   Seche_cheveux\n",
      "3    10     40       Shampoing\n",
      "4    27     23      Extensions\n",
      "5    12      9             Gel\n",
      "6    17      6           Laque\n",
      "7     5      4           Gants\n",
      "8    15     20          Brosse\n",
      "9   750     20  Casque_sechage\n"
     ]
    }
   ],
   "source": [
    "filename = \"Produits.csv\"\n",
    "df_produit = pd.read_csv(filename)\n",
    "print(df_produit)"
   ]
  },
  {
   "cell_type": "code",
   "execution_count": 4,
   "metadata": {
    "scrolled": true
   },
   "outputs": [
    {
     "name": "stdout",
     "output_type": "stream",
     "text": [
      "                    Nom\n",
      "0            Attrac'tif\n",
      "1        Communaut'hair\n",
      "2         Quoi ? Feur !\n",
      "3              Rela'tif\n",
      "4           Superla'tif\n",
      "5            Pendan'tif\n",
      "6         Helicopt'hair\n",
      "7             Prec'hair\n",
      "8          Boulang'hair\n",
      "9         Poissoni'hair\n",
      "10     Perpendicul'hair\n",
      "11            Calc'hair\n",
      "12  L'atelier du cheveu\n",
      "13          Centen'hair\n",
      "14             Addi'tif\n"
     ]
    }
   ],
   "source": [
    "filename = \"Clients.csv\"\n",
    "df_client = pd.read_csv(filename, encoding='utf-8')\n",
    "print(df_client)"
   ]
  },
  {
   "cell_type": "code",
   "execution_count": 5,
   "metadata": {},
   "outputs": [
    {
     "name": "stdout",
     "output_type": "stream",
     "text": [
      "1800\n",
      "          IdCommande  IdProduit   Date  Quantite    Cost\n",
      "IdClient                                                \n",
      "13              1195         90  28072      2200  571825\n",
      "5                654         79  20026      1750  418225\n",
      "2                848         72  20053      1700  382100\n",
      "10              1593         81  32109      1925  345575\n",
      "8                794         56  20042      1825  242400\n",
      "7               1529         84  34095      2450  231675\n",
      "14               816         65  26032      1850  231275\n",
      "11               629         65  24015      1475  178125\n",
      "1                702         75  24025      1425  153400\n",
      "3                483         26  10032       475  138450\n",
      "9                203         35   9999       800  100725\n",
      "4                412         43  14016       900   83500\n",
      "15               725         25  16048       850   34025\n",
      "12               382         38  10021       725   10025\n",
      "6                210         35  10000       550    6625\n",
      "          IdCommande  IdProduit   Date  Quantite    Cost                  Nom\n",
      "IdClient                                                                     \n",
      "13              1195         90  28072      2200  571825  L'atelier du cheveu\n",
      "5                654         79  20026      1750  418225          Superla'tif\n",
      "2                848         72  20053      1700  382100       Communaut'hair\n",
      "10              1593         81  32109      1925  345575        Poissoni'hair\n",
      "8                794         56  20042      1825  242400            Prec'hair\n",
      "7               1529         84  34095      2450  231675        Helicopt'hair\n",
      "14               816         65  26032      1850  231275          Centen'hair\n",
      "11               629         65  24015      1475  178125     Perpendicul'hair\n",
      "1                702         75  24025      1425  153400           Attrac'tif\n",
      "3                483         26  10032       475  138450        Quoi ? Feur !\n",
      "9                203         35   9999       800  100725         Boulang'hair\n",
      "4                412         43  14016       900   83500             Rela'tif\n",
      "15               725         25  16048       850   34025             Addi'tif\n",
      "12               382         38  10021       725   10025            Calc'hair\n",
      "6                210         35  10000       550    6625           Pendan'tif\n"
     ]
    },
    {
     "ename": "NameError",
     "evalue": "name 'raw_input' is not defined",
     "output_type": "error",
     "traceback": [
      "\u001b[1;31m---------------------------------------------------------------------------\u001b[0m",
      "\u001b[1;31mNameError\u001b[0m                                 Traceback (most recent call last)",
      "\u001b[1;32m~\\AppData\\Local\\Temp\\ipykernel_5636\\260718225.py\u001b[0m in \u001b[0;36m<module>\u001b[1;34m\u001b[0m\n\u001b[0;32m     15\u001b[0m \u001b[0miter\u001b[0m \u001b[1;33m=\u001b[0m \u001b[1;32mTrue\u001b[0m\u001b[1;33m\u001b[0m\u001b[1;33m\u001b[0m\u001b[0m\n\u001b[0;32m     16\u001b[0m \u001b[1;32mwhile\u001b[0m \u001b[0miter\u001b[0m\u001b[1;33m:\u001b[0m\u001b[1;33m\u001b[0m\u001b[1;33m\u001b[0m\u001b[0m\n\u001b[1;32m---> 17\u001b[1;33m     \u001b[0mnomSelect\u001b[0m \u001b[1;33m=\u001b[0m \u001b[0mraw_input\u001b[0m\u001b[1;33m(\u001b[0m\u001b[1;34m\"Selection : \"\u001b[0m\u001b[1;33m)\u001b[0m\u001b[1;33m\u001b[0m\u001b[1;33m\u001b[0m\u001b[0m\n\u001b[0m\u001b[0;32m     18\u001b[0m     \u001b[0miter\u001b[0m \u001b[1;33m=\u001b[0m \u001b[1;32mnot\u001b[0m\u001b[1;33m(\u001b[0m\u001b[0mnomSelect\u001b[0m \u001b[1;32min\u001b[0m \u001b[0mlist\u001b[0m\u001b[1;33m(\u001b[0m\u001b[0mdf_client\u001b[0m\u001b[1;33m[\u001b[0m\u001b[1;34m\"Nom\"\u001b[0m\u001b[1;33m]\u001b[0m\u001b[1;33m)\u001b[0m\u001b[1;33m)\u001b[0m\u001b[1;33m\u001b[0m\u001b[1;33m\u001b[0m\u001b[0m\n\u001b[0;32m     19\u001b[0m \u001b[0midselect\u001b[0m \u001b[1;33m=\u001b[0m \u001b[0mlist\u001b[0m\u001b[1;33m(\u001b[0m\u001b[0mdf_client\u001b[0m\u001b[1;33m[\u001b[0m\u001b[1;34m\"Nom\"\u001b[0m\u001b[1;33m]\u001b[0m\u001b[1;33m)\u001b[0m\u001b[1;33m.\u001b[0m\u001b[0mindex\u001b[0m\u001b[1;33m(\u001b[0m\u001b[0mnomSelect\u001b[0m\u001b[1;33m)\u001b[0m\u001b[1;33m+\u001b[0m\u001b[1;36m1\u001b[0m\u001b[1;33m\u001b[0m\u001b[1;33m\u001b[0m\u001b[0m\n",
      "\u001b[1;31mNameError\u001b[0m: name 'raw_input' is not defined"
     ]
    }
   ],
   "source": [
    "print(int(df[\"Quantite\"][148]*df_produit[\"Prix\"][df[\"IdProduit\"][148]]))\n",
    "cost = []\n",
    "for i in list(df.index):\n",
    "    cost.append(df[\"Quantite\"][i] * df_produit[\"Prix\"][df[\"IdProduit\"][i]-1])\n",
    "    \n",
    "df[\"Cost\"] = cost\n",
    "\n",
    "df_importance = df.groupby([\"IdClient\"]).sum().sort_values(by=\"Cost\", ascending=False)\n",
    "print(df_importance)\n",
    "NomClient_importance = [df_client[\"Nom\"][i-1] for i in list(df_importance.index)]\n",
    "df_importance[\"Nom\"] = NomClient_importance\n",
    "\n",
    "print(df_importance)\n",
    "\n",
    "iter = True\n",
    "while iter:\n",
    "    nomSelect = input(\"Selection : \")\n",
    "    iter = not(nomSelect in list(df_client[\"Nom\"]))\n",
    "idselect = list(df_client[\"Nom\"]).index(nomSelect)+1"
   ]
  },
  {
   "cell_type": "code",
   "execution_count": 30,
   "metadata": {},
   "outputs": [
    {
     "data": {
      "image/png": "[encoded data removed]",
      "text/plain": [
       "<Figure size 432x288 with 1 Axes>"
      ]
     },
     "metadata": {},
     "output_type": "display_data"
    }
   ],
   "source": [
    "total = df[\"Cost\"].sum()\n",
    "explosion = [0] * df_importance.shape[0]\n",
    "explosion[list(df_importance.index).index(idselect)] = 0.15\n",
    "camLabel = []\n",
    "for i in list(df_importance.index):\n",
    "    camLabel.append(df_client[\"Nom\"][i-1])\n",
    "\n",
    "plt.pie(df_importance[\"Cost\"], labels = camLabel, explode = explosion)\n",
    "plt.show()"
   ]
  },
  {
   "cell_type": "code",
   "execution_count": 37,
   "metadata": {},
   "outputs": [
    {
     "name": "stdout",
     "output_type": "stream",
     "text": [
      "     IdCommande  IdClient  IdProduit  Date  Quantite    Cost\n",
      "8             9        13          3  1996       200   14000\n",
      "34           35        13          2  1999       150    4500\n",
      "35           36        13         10  1999       250  187500\n",
      "39           40        13          9  2000       150    2250\n",
      "40           41        13         10  2000       150  112500\n",
      "50           51        13          5  2001        75    2025\n",
      "76           77        13          1  2005       100    5300\n",
      "100         101        13          5  2006       200    5400\n",
      "109         110        13         10  2007       250  187500\n",
      "119         120        13          6  2009       175    2100\n",
      "138         139        13          9  2012        75    1125\n",
      "142         143        13          5  2012       225    6075\n",
      "143         144        13         10  2012        50   37500\n",
      "148         149        13          5  2014       150    4050\n"
     ]
    },
    {
     "data": {
      "image/png": "[encoded data removed]",
      "text/plain": [
       "<Figure size 432x288 with 1 Axes>"
      ]
     },
     "metadata": {
      "needs_background": "light"
     },
     "output_type": "display_data"
    }
   ],
   "source": [
    "df_graphclient = df[df[\"IdClient\"]==idselect]\n",
    "print(df_graphclient)\n",
    "df_histo = df_graphclient.groupby([\"Date\"]).sum().sort_values(by=\"Date\", ascending=True)\n",
    "plt.bar(height = df_histo[\"Cost\"], x = list(df_histo.index))\n",
    "plt.show()"
   ]
  },
  {
   "cell_type": "code",
   "execution_count": 35,
   "metadata": {},
   "outputs": [
    {
     "name": "stdout",
     "output_type": "stream",
     "text": [
      "('Pour le client', u\"L'atelier du cheveu\", ':')\n",
      "Remise de 6% sur le produit n°7 (Gants)\n"
     ]
    }
   ],
   "source": [
    "df_remisesClient = df_remises[df_remises[\"IdClient\"]==idselect]\n",
    "\n",
    "print(\"Pour le client\", df_client[\"Nom\"][idselect-1], \":\")\n",
    "if list(df_remisesClient.index):\n",
    "    for i in list(df_remisesClient.index):\n",
    "        print(\"Remise de {}% sur le produit n°{} ({})\".format(df_remisesClient[\"Remise\"][i], df_remisesClient[\"IdProduit\"][i], df_produit[\"Nom\"][df_remisesClient[\"IdProduit\"][i]]))\n",
    "else:\n",
    "    print(\"Pas de remise pour ce client\")"
   ]
  },
  {
   "cell_type": "code",
   "execution_count": 36,
   "metadata": {},
   "outputs": [
    {
     "name": "stdout",
     "output_type": "stream",
     "text": [
      "Remise avantageuse détectée !\n",
      "Conseil : accordez 8% de remise au client L'atelier du cheveu sur le produit n°10 (Casque_sechage), afin de le fidéliser !\n"
     ]
    }
   ],
   "source": [
    "best = [-1, -1]\n",
    "score_max = 0\n",
    "\n",
    "df_clientPProduit = df_graphclient.groupby([\"IdProduit\"]).sum()\n",
    "\n",
    "for i in list(df_graphclient.index):\n",
    "    if not(df_graphclient[\"IdProduit\"][i] in list(df_remisesClient[\"IdProduit\"])):\n",
    "        margeP = df_produit[\"Marge\"][df_graphclient[\"IdProduit\"][i]-1]\n",
    "        qteP = df_clientPProduit[\"Quantite\"][df_graphclient[\"IdProduit\"][i]]\n",
    "        prixP = df_produit[\"Prix\"][df_graphclient[\"IdProduit\"][i]-1]\n",
    "        score = margeP * qteP * prixP\n",
    "        if score > score_max:\n",
    "            score_max = score\n",
    "            propRemise = rd.randint(1, int(df_produit[\"Marge\"][df_graphclient[\"IdProduit\"][i]-1])-1)\n",
    "            best = [df_graphclient[\"IdProduit\"][i], propRemise]\n",
    "\n",
    "if score_max != 0:\n",
    "    print(\"Remise avantageuse détectée !\")\n",
    "    print(\"Conseil : accordez {}% de remise au client {} sur le produit n°{} ({}), afin de le fidéliser !\".format(best[1], df_client[\"Nom\"][idselect-1], best[0], df_produit[\"Nom\"][best[0]-1]))\n",
    "else:\n",
    "    print(\"Pas de remise suggérée... :(\")"
   ]
  },
  {
   "cell_type": "code",
   "execution_count": null,
   "metadata": {},
   "outputs": [],
   "source": []
  }
 ],
 "metadata": {
  "kernelspec": {
   "display_name": "Python 3 (ipykernel)",
   "language": "python",
   "name": "python3"
  },
  "language_info": {
   "codemirror_mode": {
    "name": "ipython",
    "version": 3
   },
   "file_extension": ".py",
   "mimetype": "text/x-python",
   "name": "python",
   "nbconvert_exporter": "python",
   "pygments_lexer": "ipython3",
   "version": "3.9.13"
  }
 },
 "nbformat": 4,
 "nbformat_minor": 4
}
