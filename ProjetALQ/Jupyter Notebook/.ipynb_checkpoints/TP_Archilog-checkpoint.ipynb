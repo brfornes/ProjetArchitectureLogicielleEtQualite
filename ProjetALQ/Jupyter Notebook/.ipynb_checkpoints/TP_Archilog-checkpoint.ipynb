{
 "cells": [
  {
   "cell_type": "markdown",
   "metadata": {},
   "source": [
    "# Feur_Dashboard\n"
   ]
  },
  {
   "cell_type": "code",
   "execution_count": 1,
   "metadata": {},
   "outputs": [],
   "source": [
    "import pandas as pd\n",
    "import random as rd\n",
    "import matplotlib.pyplot as plt\n",
    "import numpy as np\n",
    "import tkinter as tk\n",
    "from tkinter import ttk\n",
    "from matplotlib.backends.backend_tkagg import FigureCanvasTkAgg"
   ]
  },
  {
   "cell_type": "code",
   "execution_count": 2,
   "metadata": {},
   "outputs": [
    {
     "name": "stdout",
     "output_type": "stream",
     "text": [
      "   IdCommande  IdClient  IdProduit  Date  Quantite\n",
      "0           1        75          5  1995        50\n",
      "1           2        75          6  1996       175\n",
      "2           3        75          1  1996       225\n",
      "3           4        75          7  1996       150\n",
      "4           5        75          5  1997        25\n",
      "5           6        75          1  1998        25\n",
      "6           7        75         10  1998        75\n",
      "7           8        75          3  1998       175\n",
      "8           9        75          9  1998       150\n",
      "9          10        75          8  1999       225\n"
     ]
    }
   ],
   "source": [
    "filename = \"Commandes_clients.csv\"\n",
    "df = pd.read_csv(filename)\n",
    "\n",
    "print(df.head(10))"
   ]
  },
  {
   "cell_type": "code",
   "execution_count": 3,
   "metadata": {},
   "outputs": [
    {
     "name": "stdout",
     "output_type": "stream",
     "text": [
      "    Remise  IdProduit  IdClient\n",
      "0       70          6        75\n",
      "1       40          6        14\n",
      "2       20          7        35\n",
      "3       20          2        38\n",
      "4       20          8        75\n",
      "5       60          3        15\n",
      "6       40          8         5\n",
      "7       30          5        98\n",
      "8       10          1        87\n",
      "9       60         10        54\n",
      "10      80          3        75\n",
      "11      30          5        25\n"
     ]
    }
   ],
   "source": [
    "remises = [70, 40, 20, 20, 20, 60, 40, 30, 10, 60, 80, 30]\n",
    "produit = [ 6,  6,  7,  2,  8,  3,  8,  5,  1, 10,  3,  5]\n",
    "client =  [75, 14, 35, 38, 75, 15,  5, 98, 87, 54, 75, 25]\n",
    "df_remises = pd.DataFrame({'Remise': remises,'IdProduit': produit, 'IdClient': client})\n",
    "print(df_remises.head(12))"
   ]
  },
  {
   "cell_type": "code",
   "execution_count": 4,
   "metadata": {},
   "outputs": [
    {
     "name": "stdout",
     "output_type": "stream",
     "text": [
      "    Prix  Marge        Nom\n",
      "1     83      3      Colle\n",
      "2     24     10      Clous\n",
      "3     34     23      Choux\n",
      "4     95     61       Café\n",
      "5     82      8     Craies\n",
      "6      3     50   Chaudron\n",
      "7     18      8      Clefs\n",
      "8     29     20   Cavalier\n",
      "9     95     11  Chauffeur\n",
      "10    63     37       Clés\n"
     ]
    }
   ],
   "source": [
    "prix =      [83, 24, 34, 95, 82,  3, 18, 29, 95, 63]\n",
    "marge =     [ 3, 10, 23, 61,  8, 50,  8, 20, 11, 37]\n",
    "nom =       [\"Colle\", \"Clous\", \"Choux\", \"Café\", \"Craies\", \"Chaudron\", \"Clefs\", \"Cavalier\", \"Chauffeur\", \"Clés\"]\n",
    "Idproduit = [i for i in range(1, 11)]\n",
    "df_produit = pd.DataFrame({'Prix': prix,'Marge': marge, 'Nom': nom}, index=Idproduit)\n",
    "print(df_produit.head(10))"
   ]
  },
  {
   "cell_type": "code",
   "execution_count": 16,
   "metadata": {
    "scrolled": false
   },
   "outputs": [
    {
     "name": "stdout",
     "output_type": "stream",
     "text": [
      "          IdCommande  IdProduit   Date  Quantite   Cost          Nom\n",
      "IdClient                                                            \n",
      "75                78         63  23971      1500  66450      Culturo\n",
      "14                82         13   8007       450  34450         Fnic\n",
      "35                59         15   6004       425  25125        Garty\n",
      "38                63          9   4017       275  23200     Habitons\n",
      "85                58         19   8004       500  18425       Auchun\n",
      "15                53          8   4008       200  14000  Unionmarché\n",
      "5                 27          3   2005       250   8500   Client n°6\n",
      "98                33          5   2010       100   8200  Client n°99\n",
      "87                26          5   2004        75   6150  Client n°88\n",
      "54                29          5   2006        50   4100  Client n°55\n",
      "26                30          8   2007        75   2175  Client n°27\n",
      "25                23          6   2002       200    600  Client n°26\n",
      "Vous avez selectionné : ' Culturo '\n"
     ]
    },
    {
     "data": {
      "image/png": "[encoded data removed]",
      "text/plain": [
       "<Figure size 640x480 with 4 Axes>"
      ]
     },
     "metadata": {},
     "output_type": "display_data"
    }
   ],
   "source": [
    "cost = [df[\"Quantite\"][i]*df_produit[\"Prix\"][df[\"IdProduit\"][i]] for i in df.index]\n",
    "\n",
    "df[\"Cost\"] = cost\n",
    "\n",
    "df_importance = df.groupby([\"IdClient\"]).sum().sort_values(by=\"Cost\", ascending=False)\n",
    "\n",
    "nomClient = [\"Client n°{}\".format(i) for i in range(1, 101)]\n",
    "nomClient[75] = \"Culturo\"\n",
    "nomClient[14] = \"Fnic\"\n",
    "nomClient[35] = \"Garty\"\n",
    "nomClient[38] = \"Habitons\"\n",
    "nomClient[85] = \"Auchun\"\n",
    "nomClient[15] = \"Unionmarché\"\n",
    "\n",
    "NomClient_importance = [nomClient[i] for i in list(df_importance.index)]\n",
    "df_importance[\"Nom\"] = NomClient_importance\n",
    "\n",
    "print(df_importance)\n",
    "\n",
    "#def de la fonction qui récupère l'élément selectionné\n",
    "def action(ev):\n",
    "    \n",
    "    select = listeCombo.get()\n",
    "    print(\"Vous avez selectionné : '\",select,\"'\" )\n",
    "    idselect = nomClient.index(select)\n",
    "    \n",
    "    #gestion de la fenetre tkinter\n",
    "    root2 = tk.Tk()\n",
    "    fig, axis = plt.subplots(2,2)\n",
    "    \n",
    "    \n",
    "    #pie chart\n",
    "    total = df[\"Cost\"].sum()\n",
    "    explosion = [0] * df_importance.shape[0]\n",
    "    explosion[list(df_importance.index).index(idselect)] = 0.15\n",
    "    camLabel = []\n",
    "    for i in list(df_importance.index):\n",
    "        camLabel.append(nomClient[i])\n",
    "    axis[0,0].pie(df_importance[\"Cost\"], labels = camLabel, explode = explosion)\n",
    "    \n",
    "    \n",
    "    #histogramme\n",
    "    df_client = df[df[\"IdClient\"]==idselect]\n",
    "    df_histo = df_client.groupby([\"Date\"]).sum().sort_values(by=\"Date\", ascending=True)\n",
    "    axis[0,1].bar(height = df_histo[\"Cost\"], x = list(df_histo.index))\n",
    "    \n",
    "    #dessin du canva\n",
    "    canvas = FigureCanvasTkAgg(fig,master=root2)\n",
    "    canvas.draw()\n",
    "    canvas.get_tk_widget().pack(side=tk.TOP, fill=tk.BOTH, expand=1)\n",
    "    tk.mainloop()\n",
    "\n",
    "#creation de la combobox\n",
    "root = tk.Tk()\n",
    "root.geometry('200x200')\n",
    "\n",
    "choixLabel = tk.Label(root, text = \"Veuillez choisir un client !\")\n",
    "\n",
    "choixLabel.pack()\n",
    "#ajout de la liste des clients dans la combobox \n",
    "listeCombo = ttk.Combobox(root, values=NomClient_importance)\n",
    "\n",
    "listeCombo.current(0)\n",
    "\n",
    "listeCombo.pack()\n",
    "listeCombo.bind(\"<<ComboboxSelected>>\",action)\n",
    "\n",
    "root.mainloop()\n",
    "\n"
   ]
  },
  {
   "cell_type": "code",
   "execution_count": null,
   "metadata": {},
   "outputs": [],
   "source": []
  },
  {
   "cell_type": "code",
   "execution_count": null,
   "metadata": {},
   "outputs": [],
   "source": [
    "print(idselect)\n",
    "df_client = df[df[\"IdClient\"]==idselect]\n",
    "df_histo = df_client.groupby([\"Date\"]).sum().sort_values(by=\"Date\", ascending=True)\n",
    "plt.bar(height = df_histo[\"Cost\"], x = list(df_histo.index))\n",
    "plt.show()"
   ]
  },
  {
   "cell_type": "code",
   "execution_count": 13,
   "metadata": {},
   "outputs": [
    {
     "ename": "NameError",
     "evalue": "name 'idselect' is not defined",
     "output_type": "error",
     "traceback": [
      "\u001b[1;31m---------------------------------------------------------------------------\u001b[0m",
      "\u001b[1;31mNameError\u001b[0m                                 Traceback (most recent call last)",
      "\u001b[1;32m~\\AppData\\Local\\Temp\\ipykernel_9704\\310898028.py\u001b[0m in \u001b[0;36m<module>\u001b[1;34m\u001b[0m\n\u001b[1;32m----> 1\u001b[1;33m \u001b[0mdf_remisesClient\u001b[0m \u001b[1;33m=\u001b[0m \u001b[0mdf_remises\u001b[0m\u001b[1;33m[\u001b[0m\u001b[0mdf_remises\u001b[0m\u001b[1;33m[\u001b[0m\u001b[1;34m\"IdClient\"\u001b[0m\u001b[1;33m]\u001b[0m\u001b[1;33m==\u001b[0m\u001b[0midselect\u001b[0m\u001b[1;33m]\u001b[0m\u001b[1;33m\u001b[0m\u001b[1;33m\u001b[0m\u001b[0m\n\u001b[0m\u001b[0;32m      2\u001b[0m \u001b[0mprint\u001b[0m\u001b[1;33m(\u001b[0m\u001b[1;34m\"Pour le client\"\u001b[0m\u001b[1;33m,\u001b[0m \u001b[0mnomClient\u001b[0m\u001b[1;33m[\u001b[0m\u001b[0midselect\u001b[0m\u001b[1;33m]\u001b[0m\u001b[1;33m,\u001b[0m \u001b[1;34m\":\"\u001b[0m\u001b[1;33m)\u001b[0m\u001b[1;33m\u001b[0m\u001b[1;33m\u001b[0m\u001b[0m\n\u001b[0;32m      3\u001b[0m \u001b[1;32mif\u001b[0m \u001b[0mlist\u001b[0m\u001b[1;33m(\u001b[0m\u001b[0mdf_remisesClient\u001b[0m\u001b[1;33m.\u001b[0m\u001b[0mindex\u001b[0m\u001b[1;33m)\u001b[0m\u001b[1;33m:\u001b[0m\u001b[1;33m\u001b[0m\u001b[1;33m\u001b[0m\u001b[0m\n\u001b[0;32m      4\u001b[0m     \u001b[1;32mfor\u001b[0m \u001b[0mi\u001b[0m \u001b[1;32min\u001b[0m \u001b[0mlist\u001b[0m\u001b[1;33m(\u001b[0m\u001b[0mdf_remisesClient\u001b[0m\u001b[1;33m.\u001b[0m\u001b[0mindex\u001b[0m\u001b[1;33m)\u001b[0m\u001b[1;33m:\u001b[0m\u001b[1;33m\u001b[0m\u001b[1;33m\u001b[0m\u001b[0m\n\u001b[0;32m      5\u001b[0m         \u001b[0mprint\u001b[0m\u001b[1;33m(\u001b[0m\u001b[1;34m\"Remise de {}% sur le produit n°{} ({})\"\u001b[0m\u001b[1;33m.\u001b[0m\u001b[0mformat\u001b[0m\u001b[1;33m(\u001b[0m\u001b[0mdf_remisesClient\u001b[0m\u001b[1;33m[\u001b[0m\u001b[1;34m\"Remise\"\u001b[0m\u001b[1;33m]\u001b[0m\u001b[1;33m[\u001b[0m\u001b[0mi\u001b[0m\u001b[1;33m]\u001b[0m\u001b[1;33m,\u001b[0m \u001b[0mdf_remisesClient\u001b[0m\u001b[1;33m[\u001b[0m\u001b[1;34m\"IdProduit\"\u001b[0m\u001b[1;33m]\u001b[0m\u001b[1;33m[\u001b[0m\u001b[0mi\u001b[0m\u001b[1;33m]\u001b[0m\u001b[1;33m,\u001b[0m \u001b[0mdf_produit\u001b[0m\u001b[1;33m[\u001b[0m\u001b[1;34m\"Nom\"\u001b[0m\u001b[1;33m]\u001b[0m\u001b[1;33m[\u001b[0m\u001b[0mdf_remisesClient\u001b[0m\u001b[1;33m[\u001b[0m\u001b[1;34m\"IdProduit\"\u001b[0m\u001b[1;33m]\u001b[0m\u001b[1;33m[\u001b[0m\u001b[0mi\u001b[0m\u001b[1;33m]\u001b[0m\u001b[1;33m]\u001b[0m\u001b[1;33m)\u001b[0m\u001b[1;33m)\u001b[0m\u001b[1;33m\u001b[0m\u001b[1;33m\u001b[0m\u001b[0m\n",
      "\u001b[1;31mNameError\u001b[0m: name 'idselect' is not defined"
     ]
    }
   ],
   "source": [
    "df_remisesClient = df_remises[df_remises[\"IdClient\"]==idselect]\n",
    "print(\"Pour le client\", nomClient[idselect], \":\")\n",
    "if list(df_remisesClient.index):\n",
    "    for i in list(df_remisesClient.index):\n",
    "        print(\"Remise de {}% sur le produit n°{} ({})\".format(df_remisesClient[\"Remise\"][i], df_remisesClient[\"IdProduit\"][i], df_produit[\"Nom\"][df_remisesClient[\"IdProduit\"][i]]))\n",
    "else:\n",
    "    print(\"Pas de remise pour ce client\")"
   ]
  },
  {
   "cell_type": "code",
   "execution_count": null,
   "metadata": {},
   "outputs": [],
   "source": [
    "best = [-1, -1]\n",
    "score_max = 0\n",
    "\n",
    "df_clientPProduit = df_client.groupby([\"IdProduit\"]).sum()\n",
    "\n",
    "for i in list(df_client.index):\n",
    "    if not(df_client[\"IdProduit\"][i] in list(df_remisesClient[\"IdProduit\"])):\n",
    "        if df_produit[\"Marge\"][df_client[\"IdProduit\"][i]] > 11:\n",
    "            margeP = df_produit[\"Marge\"][df_client[\"IdProduit\"][i]]\n",
    "            qteP = df_clientPProduit[\"Quantite\"][df_client[\"IdProduit\"][i]]\n",
    "            prixP = df_produit[\"Prix\"][df_client[\"IdProduit\"][i]]\n",
    "            score = margeP * qteP * prixP\n",
    "            if score > score_max:\n",
    "                score_max = score\n",
    "                propRemise = rd.randint(1, int(df_produit[\"Marge\"][df_client[\"IdProduit\"][i]]/10)-1)\n",
    "                best = [df_client[\"IdProduit\"][i], propRemise * 10]\n",
    "\n",
    "if score_max != 0:\n",
    "    print(\"Remise avantageuse détectée !\")\n",
    "    print(\"Conseil : accordez {}% de remise au client {} sur le produit n°{} ({}), afin de le fidéliser !\".format(best[1], nomClient[idselect], best[0], df_produit[\"Nom\"][best[0]]))\n",
    "else:\n",
    "    print(\"Pas de remise suggérée... :(\")"
   ]
  },
  {
   "cell_type": "code",
   "execution_count": null,
   "metadata": {},
   "outputs": [],
   "source": []
  }
 ],
 "metadata": {
  "kernelspec": {
   "display_name": "Python 3 (ipykernel)",
   "language": "python",
   "name": "python3"
  },
  "language_info": {
   "codemirror_mode": {
    "name": "ipython",
    "version": 3
   },
   "file_extension": ".py",
   "mimetype": "text/x-python",
   "name": "python",
   "nbconvert_exporter": "python",
   "pygments_lexer": "ipython3",
   "version": "3.9.13"
  }
 },
 "nbformat": 4,
 "nbformat_minor": 4
}
