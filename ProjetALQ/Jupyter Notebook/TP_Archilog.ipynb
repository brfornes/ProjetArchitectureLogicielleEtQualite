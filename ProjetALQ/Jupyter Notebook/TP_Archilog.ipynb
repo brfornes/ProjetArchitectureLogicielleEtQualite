{
 "cells": [
  {
   "cell_type": "markdown",
   "metadata": {},
   "source": [
    "Voici notre projet :)"
   ]
  },
  {
   "cell_type": "code",
   "execution_count": 2,
   "metadata": {},
   "outputs": [
    {
     "name": "stdout",
     "output_type": "stream",
     "text": [
      "    IdCommande  IdClient  IdProduit  Date  Quantite\n",
      "0            1        75          5  1995        50\n",
      "1            2        75          6  1996       175\n",
      "2            3        75          1  1996       225\n",
      "3            4        75          7  1996       150\n",
      "4            5        75          5  1997        25\n",
      "5            6        75          1  1998        25\n",
      "6            7        75         10  1998        75\n",
      "7            8        75          3  1998       175\n",
      "8            9        75          9  1998       150\n",
      "9           10        75          8  1999       225\n",
      "10          11        75          6  2000        25\n",
      "11          12        75          2  2000       200\n",
      "12          13        85          2  2001        25\n",
      "13          14        85          8  2001       150\n",
      "14          15        85          1  2001        75\n",
      "15          16        85          8  2001       250\n",
      "16          17        35          9  2001       175\n",
      "17          18        35          3  2001       225\n",
      "18          19        14          2  2001       100\n",
      "19          20        14          1  2002        25\n",
      "20          21        14          9  2002       250\n",
      "21          22        14          1  2002        75\n",
      "22          23        25          6  2002       200\n",
      "23          24        35          3  2002        25\n",
      "24          25        15          5  2003       150\n",
      "25          26        87          5  2004        75\n",
      "26          27         5          3  2005       250\n",
      "27          28        15          3  2005        50\n",
      "28          29        54          5  2006        50\n",
      "29          30        26          8  2007        75\n"
     ]
    }
   ],
   "source": [
    "import pandas as pd\n",
    "import random as rd\n",
    "import matplotlib.pyplot as plt\n",
    "import numpy as np\n",
    "\n",
    "filename = \"Commandes_clients.csv\"\n",
    "df = pd.read_csv(filename)\n",
    "\n",
    "idselect = 75\n",
    "\n",
    "print(df.head(30))"
   ]
  },
  {
   "cell_type": "code",
   "execution_count": 3,
   "metadata": {},
   "outputs": [
    {
     "name": "stdout",
     "output_type": "stream",
     "text": [
      "    Remise  IdProduit  IdClient\n",
      "0       70          6        75\n",
      "1       40          6        14\n",
      "2       20          7        35\n",
      "3       20          2        38\n",
      "4       20          8        75\n",
      "5       60          3        15\n",
      "6       40          8         5\n",
      "7       30          5        98\n",
      "8       10          1        87\n",
      "9       60         10        54\n",
      "10      80          3        75\n",
      "11      30          5        25\n"
     ]
    }
   ],
   "source": [
    "remises = [70, 40, 20, 20, 20, 60, 40, 30, 10, 60, 80, 30]\n",
    "produit = [ 6,  6,  7,  2,  8,  3,  8,  5,  1, 10,  3,  5]\n",
    "client =  [75, 14, 35, 38, 75, 15,  5, 98, 87, 54, 75, 25]\n",
    "df_remises = pd.DataFrame({'Remise': remises,'IdProduit': produit, 'IdClient': client})\n",
    "print(df_remises.head(12))"
   ]
  },
  {
   "cell_type": "code",
   "execution_count": 4,
   "metadata": {},
   "outputs": [
    {
     "name": "stdout",
     "output_type": "stream",
     "text": [
      "    Prix  Marge        Nom\n",
      "1     83      3      Colle\n",
      "2     24     10      Clous\n",
      "3     34     23      Choux\n",
      "4     95     61       Café\n",
      "5     82      8     Craies\n",
      "6      3     50   Chaudron\n",
      "7     18      8      Clefs\n",
      "8     29     20   Cavalier\n",
      "9     95     11  Chauffeur\n",
      "10    63     37       Clés\n"
     ]
    }
   ],
   "source": [
    "prix =      [83, 24, 34, 95, 82,  3, 18, 29, 95, 63]\n",
    "marge =     [ 3, 10, 23, 61,  8, 50,  8, 20, 11, 37]\n",
    "nom =       [\"Colle\", \"Clous\", \"Choux\", \"Café\", \"Craies\", \"Chaudron\", \"Clefs\", \"Cavalier\", \"Chauffeur\", \"Clés\"]\n",
    "Idproduit = [i for i in range(1, 11)]\n",
    "df_produit = pd.DataFrame({'Prix': prix,'Marge': marge, 'Nom': nom}, index=Idproduit)\n",
    "print(df_produit.head(10))"
   ]
  },
  {
   "cell_type": "code",
   "execution_count": 5,
   "metadata": {},
   "outputs": [
    {
     "name": "stdout",
     "output_type": "stream",
     "text": [
      "          IdCommande  IdProduit   Date  Quantite   Cost          Nom\n",
      "IdClient                                                            \n",
      "75                78         63  23971      1500  66450      Culturo\n",
      "14                82         13   8007       450  34450         Fnic\n",
      "35                59         15   6004       425  25125        Garty\n",
      "38                63          9   4017       275  23200     Habitons\n",
      "85                58         19   8004       500  18425       Auchun\n",
      "15                53          8   4008       200  14000  Unionmarché\n",
      "5                 27          3   2005       250   8500   Client n°6\n",
      "98                33          5   2010       100   8200  Client n°99\n",
      "87                26          5   2004        75   6150  Client n°88\n",
      "54                29          5   2006        50   4100  Client n°55\n",
      "26                30          8   2007        75   2175  Client n°27\n",
      "25                23          6   2002       200    600  Client n°26\n",
      "Sélection : Culturo\n"
     ]
    }
   ],
   "source": [
    "cost = [df[\"Quantite\"][i]*df_produit[\"Prix\"][df[\"IdProduit\"][i]] for i in df.index]\n",
    "\n",
    "df[\"Cost\"] = cost\n",
    "\n",
    "df_importance = df.groupby([\"IdClient\"]).sum().sort_values(by=\"Cost\", ascending=False)\n",
    "\n",
    "nomClient = [\"Client n°{}\".format(i) for i in range(1, 101)]\n",
    "nomClient[75] = \"Culturo\"\n",
    "nomClient[14] = \"Fnic\"\n",
    "nomClient[35] = \"Garty\"\n",
    "nomClient[38] = \"Habitons\"\n",
    "nomClient[85] = \"Auchun\"\n",
    "nomClient[15] = \"Unionmarché\"\n",
    "\n",
    "NomClient_importance = [nomClient[i] for i in list(df_importance.index)]\n",
    "df_importance[\"Nom\"] = NomClient_importance\n",
    "\n",
    "print(df_importance)\n",
    "\n",
    "iter = True\n",
    "while iter:    \n",
    "    nomSelect = input(\"Sélection : \")\n",
    "    iter = not(nomSelect in nomClient)\n",
    "idselect = nomClient.index(nomSelect)"
   ]
  },
  {
   "cell_type": "code",
   "execution_count": 6,
   "metadata": {},
   "outputs": [
    {
     "data": {
      "image/png": "[encoded data removed]",
      "text/plain": [
       "<Figure size 432x288 with 1 Axes>"
      ]
     },
     "metadata": {},
     "output_type": "display_data"
    }
   ],
   "source": [
    "total = df[\"Cost\"].sum()\n",
    "explosion = [0] * df_importance.shape[0]\n",
    "explosion[list(df_importance.index).index(idselect)] = 0.15\n",
    "camLabel = []\n",
    "for i in list(df_importance.index):\n",
    "    camLabel.append(nomClient[i])\n",
    "\n",
    "plt.pie(df_importance[\"Cost\"], labels = camLabel, explode = explosion)\n",
    "plt.show()"
   ]
  },
  {
   "cell_type": "code",
   "execution_count": 7,
   "metadata": {},
   "outputs": [
    {
     "data": {
      "image/png": "[encoded data removed]",
      "text/plain": [
       "<Figure size 432x288 with 1 Axes>"
      ]
     },
     "metadata": {
      "needs_background": "light"
     },
     "output_type": "display_data"
    }
   ],
   "source": [
    "df_client = df[df[\"IdClient\"]==idselect]\n",
    "df_histo = df_client.groupby([\"Date\"]).sum().sort_values(by=\"Date\", ascending=True)\n",
    "plt.bar(height = df_histo[\"Cost\"], x = list(df_histo.index))\n",
    "plt.show()"
   ]
  },
  {
   "cell_type": "code",
   "execution_count": 8,
   "metadata": {},
   "outputs": [
    {
     "name": "stdout",
     "output_type": "stream",
     "text": [
      "Pour le client Culturo :\n",
      "Remise de 70% sur le produit n°6 (Chaudron)\n",
      "Remise de 20% sur le produit n°8 (Cavalier)\n",
      "Remise de 80% sur le produit n°3 (Choux)\n"
     ]
    }
   ],
   "source": [
    "df_remisesClient = df_remises[df_remises[\"IdClient\"]==idselect]\n",
    "print(\"Pour le client\", nomClient[idselect], \":\")\n",
    "if list(df_remisesClient.index):\n",
    "    for i in list(df_remisesClient.index):\n",
    "        print(\"Remise de {}% sur le produit n°{} ({})\".format(df_remisesClient[\"Remise\"][i], df_remisesClient[\"IdProduit\"][i], df_produit[\"Nom\"][df_remisesClient[\"IdProduit\"][i]]))\n",
    "else:\n",
    "    print(\"Pas de remise pour ce client\")"
   ]
  },
  {
   "cell_type": "code",
   "execution_count": 9,
   "metadata": {},
   "outputs": [
    {
     "name": "stdout",
     "output_type": "stream",
     "text": [
      "Remise avantageuse détectée !\n",
      "Conseil : accordez 20% de remise au client Culturo sur le produit n°10 (Clés), afin de le fidéliser !\n"
     ]
    }
   ],
   "source": [
    "best = [-1, -1]\n",
    "score_max = 0\n",
    "\n",
    "df_clientPProduit = df_client.groupby([\"IdProduit\"]).sum()\n",
    "\n",
    "for i in list(df_client.index):\n",
    "    if not(df_client[\"IdProduit\"][i] in list(df_remisesClient[\"IdProduit\"])):\n",
    "        if df_produit[\"Marge\"][df_client[\"IdProduit\"][i]] > 11:\n",
    "            margeP = df_produit[\"Marge\"][df_client[\"IdProduit\"][i]]\n",
    "            qteP = df_clientPProduit[\"Quantite\"][df_client[\"IdProduit\"][i]]\n",
    "            prixP = df_produit[\"Prix\"][df_client[\"IdProduit\"][i]]\n",
    "            score = margeP * qteP * prixP\n",
    "            if score > score_max:\n",
    "                score_max = score\n",
    "                propRemise = rd.randint(1, int(df_produit[\"Marge\"][df_client[\"IdProduit\"][i]]/10)-1)\n",
    "                best = [df_client[\"IdProduit\"][i], propRemise * 10]\n",
    "\n",
    "if score_max != 0:\n",
    "    print(\"Remise avantageuse détectée !\")\n",
    "    print(\"Conseil : accordez {}% de remise au client {} sur le produit n°{} ({}), afin de le fidéliser !\".format(best[1], nomClient[idselect], best[0], df_produit[\"Nom\"][best[0]]))\n",
    "else:\n",
    "    print(\"Pas de remise suggérée... :(\")"
   ]
  },
  {
   "cell_type": "code",
   "execution_count": null,
   "metadata": {},
   "outputs": [],
   "source": []
  }
 ],
 "metadata": {
  "kernelspec": {
   "display_name": "Python 3",
   "language": "python",
   "name": "python3"
  },
  "language_info": {
   "codemirror_mode": {
    "name": "ipython",
    "version": 3
   },
   "file_extension": ".py",
   "mimetype": "text/x-python",
   "name": "python",
   "nbconvert_exporter": "python",
   "pygments_lexer": "ipython3",
   "version": "3.7.6"
  }
 },
 "nbformat": 4,
 "nbformat_minor": 4
}
