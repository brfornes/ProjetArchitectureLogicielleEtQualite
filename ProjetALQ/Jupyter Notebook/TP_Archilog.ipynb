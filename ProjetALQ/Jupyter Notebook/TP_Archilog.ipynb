{
 "cells": [
  {
   "cell_type": "markdown",
   "metadata": {},
   "source": [
    "# Feur_Dashboard\n"
   ]
  },
  {
   "cell_type": "code",
   "execution_count": 1,
   "metadata": {},
   "outputs": [],
   "source": [
    "import pandas as pd\n",
    "import random as rd\n",
    "import matplotlib.pyplot as plt\n",
    "import numpy as np\n",
    "import tkinter as tk\n",
    "from tkinter import ttk\n",
    "from tkinter import *\n",
    "from matplotlib.backends.backend_tkagg import FigureCanvasTkAgg"
   ]
  },
  {
   "cell_type": "code",
   "execution_count": 19,
   "metadata": {},
   "outputs": [
    {
     "name": "stdout",
     "output_type": "stream",
     "text": [
      "Python 3.9.13\n"
     ]
    }
   ],
   "source": [
    "import sys\n",
    "!{sys.executable} --version"
   ]
  },
  {
   "cell_type": "code",
   "execution_count": 2,
   "metadata": {},
   "outputs": [
    {
     "name": "stdout",
     "output_type": "stream",
     "text": [
      "   IdCommande  IdClient  IdProduit  Date  Quantite\n",
      "0           1         8          1  1995       225\n",
      "1           2        14          1  1995       125\n",
      "2           3        11          9  1995       150\n",
      "3           4        11          5  1996        25\n",
      "4           5        11         10  1996       175\n",
      "5           6         9          8  1996       125\n",
      "6           7         7          3  1996       250\n",
      "7           8        12          8  1996       150\n",
      "8           9        13          3  1996       200\n",
      "9          10         8          1  1996       200\n"
     ]
    }
   ],
   "source": [
    "filename = \"Commandes_clients.csv\"\n",
    "df = pd.read_csv(filename)\n",
    "\n",
    "print(df.head(10))"
   ]
  },
  {
   "cell_type": "code",
   "execution_count": 3,
   "metadata": {},
   "outputs": [
    {
     "name": "stdout",
     "output_type": "stream",
     "text": [
      "    Remise  IdProduit  IdClient\n",
      "0        6         10         1\n",
      "1        4          8        14\n",
      "2       15          3        11\n",
      "3       22          5        14\n",
      "4       12          2         5\n",
      "5        1          7        11\n",
      "6       14          9        12\n",
      "7        5          1         5\n",
      "8        1          2         9\n",
      "9       10          1        11\n",
      "10       9          6         5\n",
      "11      17          2         6\n",
      "12      21          2         5\n",
      "13       2          6         3\n",
      "14       6          7        13\n",
      "15       3          8        12\n",
      "16       2          8        14\n",
      "17       1          3         2\n",
      "18       4          5         6\n",
      "19      14          9         5\n",
      "20      19          9         7\n",
      "21       2          8         7\n",
      "22       5          2        10\n",
      "23       7          6        11\n",
      "24       4          2         1\n",
      "25      19          9         8\n",
      "26      20          5         7\n",
      "27      18          9        15\n",
      "28       9          5        15\n"
     ]
    }
   ],
   "source": [
    "filename = \"Remises.csv\"\n",
    "df_remises = pd.read_csv(filename)\n",
    "print(df_remises.head(34))"
   ]
  },
  {
   "cell_type": "code",
   "execution_count": 4,
   "metadata": {},
   "outputs": [
    {
     "name": "stdout",
     "output_type": "stream",
     "text": [
      "   Prix  Marge             Nom\n",
      "0    53     29        Teinture\n",
      "1    30     30         Ciseaux\n",
      "2    70     25   Seche_cheveux\n",
      "3    10     40       Shampoing\n",
      "4    27     23      Extensions\n",
      "5    12      9             Gel\n",
      "6    17      6           Laque\n",
      "7     5      4           Gants\n",
      "8    15     20          Brosse\n",
      "9   750     20  Casque_sechage\n"
     ]
    }
   ],
   "source": [
    "filename = \"Produits.csv\"\n",
    "df_produit = pd.read_csv(filename)\n",
    "print(df_produit.head(12))"
   ]
  },
  {
   "cell_type": "code",
   "execution_count": 5,
   "metadata": {},
   "outputs": [
    {
     "name": "stdout",
     "output_type": "stream",
     "text": [
      "                    Nom\n",
      "0            Attrac'tif\n",
      "1        Communaut'hair\n",
      "2         Quoi ? Feur !\n",
      "3              Rela'tif\n",
      "4           Superla'tif\n",
      "5            Pendan'tif\n",
      "6         Helicopt'hair\n",
      "7             Prec'hair\n",
      "8          Boulang'hair\n",
      "9         Poissoni'hair\n",
      "10     Perpendicul'hair\n",
      "11            Calc'hair\n",
      "12  L'atelier du cheveu\n",
      "13          Centen'hair\n",
      "14             Addi'tif\n"
     ]
    }
   ],
   "source": [
    "filename = \"Clients.csv\"\n",
    "df_client = pd.read_csv(filename, encoding='utf-8')\n",
    "print(df_client)"
   ]
  },
  {
   "cell_type": "code",
   "execution_count": 17,
   "metadata": {
    "scrolled": false
   },
   "outputs": [
    {
     "data": {
      "image/png": "[encoded data removed]",
      "text/plain": [
       "<Figure size 640x480 with 4 Axes>"
      ]
     },
     "metadata": {},
     "output_type": "display_data"
    }
   ],
   "source": [
    "cost = [df[\"Quantite\"][i]*df_produit[\"Prix\"][df[\"IdProduit\"][i]-1] for i in df.index]\n",
    "\n",
    "df[\"Cost\"] = cost\n",
    "\n",
    "df_importance = df.groupby([\"IdClient\"]).sum().sort_values(by=\"Cost\", ascending=False)\n",
    "\n",
    "\n",
    "NomClient_importance = [df_client[\"Nom\"][i-1] for i in list(df_importance.index)]\n",
    "df_importance[\"Nom\"] = NomClient_importance\n",
    "\n",
    "\n",
    "\n",
    "\n",
    "\n",
    "#def de la fonction qui récupère l'élément selectionné\n",
    "def action(ev):\n",
    "    \n",
    "    select = listeCombo.get()\n",
    "    idselect = list(df_client[\"Nom\"]).index(select)\n",
    "    \n",
    "    #instanciation des df pour les utiliser dans l'affichage des remises actuelles\n",
    "    df_remisesClient = df_remises[df_remises[\"IdClient\"]==idselect]\n",
    "    \n",
    "    texteRemisesActu=StringVar()\n",
    "    texteRemiseTrouvee=StringVar()\n",
    "    texteRemiseAAppliquer=StringVar()\n",
    "   \n",
    "    \n",
    "\n",
    "    #ecriture dans la fenetre tkinter1\n",
    "    #ecriture des labels d'information pour le client selectionne\n",
    "    texteLabel = tk.Label(root,text= \"Pour le client \" + str(df_client[\"Nom\"][idselect]) + \":\")\n",
    "    texteLabel.pack()\n",
    "    \n",
    "    #df_remisesClient[\"IdProduit\"][i],\n",
    "    if list(df_remisesClient.index):\n",
    "        for i in list(df_remisesClient.index):\n",
    "            texteRemisesActu.set(\"Remise actuelle de {}% sur le produit nommé {}\".format(df_remisesClient[\"Remise\"][i],df_produit[\"Nom\"][df_remisesClient[\"IdProduit\"][i]]))\n",
    "    else:\n",
    "        texteRemisesActu.set(\"Pas de remise pour ce client\")\n",
    "        \n",
    "    remiseLabel = tk.Label(root, textvariable= texteRemisesActu)\n",
    "    remiseLabel.pack()\n",
    "    \n",
    "    \n",
    "    #gestion de la fenetre tkinter2\n",
    "    root2 = tk.Tk()\n",
    "    fig, axis = plt.subplots(2,2)\n",
    "    \n",
    "    \n",
    "    #pie chart\n",
    "    total = df[\"Cost\"].sum()\n",
    "    explosion = [0] * df_importance.shape[0]\n",
    "    explosion[list(df_importance.index).index(idselect+1)] = 0.15\n",
    "    camLabel = []\n",
    "    for i in list(df_importance.index):\n",
    "        camLabel.append(df_client[\"Nom\"][i-1])\n",
    "    axis[0,0].pie(df_importance[\"Cost\"], labels = camLabel, explode = explosion)\n",
    "    \n",
    "    \n",
    "    #histogramme\n",
    "    df_graphclient = df[df[\"IdClient\"]==idselect]\n",
    "    df_histo = df_graphclient.groupby([\"Date\"]).sum().sort_values(by=\"Date\", ascending=True)\n",
    "    axis[0,1].bar(height = df_histo[\"Cost\"], x = list(df_histo.index))\n",
    "    \n",
    "    best = [-1, -1]\n",
    "    score_max = 0\n",
    "\n",
    "    df_clientPProduit = df_graphclient.groupby([\"IdProduit\"]).sum()\n",
    "\n",
    "    for i in list(df_graphclient.index):\n",
    "        if not(df_graphclient[\"IdProduit\"][i] in list(df_remisesClient[\"IdProduit\"])):\n",
    "            margeP = df_produit[\"Marge\"][df_graphclient[\"IdProduit\"][i]-1]\n",
    "            qteP = df_clientPProduit[\"Quantite\"][df_graphclient[\"IdProduit\"][i]]\n",
    "            prixP = df_produit[\"Prix\"][df_graphclient[\"IdProduit\"][i]-1]\n",
    "            score = margeP * qteP * prixP\n",
    "            if score > score_max:\n",
    "                score_max = score\n",
    "                propRemise = rd.randint(1, int(df_produit[\"Marge\"][df_graphclient[\"IdProduit\"][i]-1])-1)\n",
    "                best = [df_graphclient[\"IdProduit\"][i], propRemise]\n",
    "\n",
    "    if score_max != 0:\n",
    "        texteRemiseTrouvee.set(\"Remise avantageuse détectée !\")\n",
    "        texteRemiseAAppliquer.set(\"Conseil : accordez {}% de remise au client {} sur le produit n°{} ({}), afin de le fidéliser !\".format(best[1], df_client[\"Nom\"][idselect], best[0], df_produit[\"Nom\"][best[0]-1]))\n",
    "    else:\n",
    "        texteRemiseAAppliquer.set(\"Pas de remise suggérée... :(\")\n",
    "    \n",
    "    remiseLabelFound = tk.Label(root, textvariable= texteRemiseTrouvee)\n",
    "    remiseLabelFound.pack()\n",
    "    remiseLabelFound2 = tk.Label(root, textvariable= texteRemiseAAppliquer)\n",
    "    remiseLabelFound2.pack()\n",
    "    \n",
    "    #dessin du canva\n",
    "    canvas = FigureCanvasTkAgg(fig,master=root2)\n",
    "    canvas.draw()\n",
    "    canvas.get_tk_widget().pack(side=tk.TOP, fill=tk.BOTH, expand=1)\n",
    "    tk.mainloop()\n",
    "\n",
    "#creation de la combobox\n",
    "root = tk.Tk()\n",
    "root.geometry('600x500')\n",
    "\n",
    "choixLabel = tk.Label(root, text = \"Veuillez choisir un client !\")\n",
    "\n",
    "choixLabel.pack()\n",
    "#ajout de la liste des clients dans la combobox \n",
    "listeCombo = ttk.Combobox(root, values=NomClient_importance)\n",
    "\n",
    "listeCombo.current(0)\n",
    "\n",
    "listeCombo.pack()\n",
    "listeCombo.bind(\"<<ComboboxSelected>>\",action)\n",
    "\n",
    "root.mainloop()"
   ]
  },
  {
   "cell_type": "code",
   "execution_count": null,
   "metadata": {},
   "outputs": [],
   "source": []
  }
 ],
 "metadata": {
  "kernelspec": {
   "display_name": "Python 3 (ipykernel)",
   "language": "python",
   "name": "python3"
  },
  "language_info": {
   "codemirror_mode": {
    "name": "ipython",
    "version": 3
   },
   "file_extension": ".py",
   "mimetype": "text/x-python",
   "name": "python",
   "nbconvert_exporter": "python",
   "pygments_lexer": "ipython3",
   "version": "3.9.13"
  }
 },
 "nbformat": 4,
 "nbformat_minor": 4
}
